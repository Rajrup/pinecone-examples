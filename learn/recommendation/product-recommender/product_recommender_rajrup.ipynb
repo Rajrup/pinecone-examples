{
 "cells": [
  {
   "attachments": {},
   "cell_type": "markdown",
   "metadata": {},
   "source": [
    "[![Open In Colab](https://colab.research.google.com/assets/colab-badge.svg)](https://colab.research.google.com/github/pinecone-io/examples/blob/master/learn/recommendation/product-recommender/product_recommender.ipynb) [![Open nbviewer](https://raw.githubusercontent.com/pinecone-io/examples/master/assets/nbviewer-shield.svg)](https://nbviewer.org/github/pinecone-io/examples/blob/master/learn/recommendation/product-recommender/product_recommender.ipynb)"
   ]
  },
  {
   "attachments": {},
   "cell_type": "markdown",
   "metadata": {
    "id": "YmdWGrw4t5G2"
   },
   "source": [
    "# Product Recommendation Engine"
   ]
  },
  {
   "attachments": {},
   "cell_type": "markdown",
   "metadata": {
    "id": "lXd46ecEt5G7"
   },
   "source": [
    "Learn how to build a product recommendation engine using collaborative filtering and Pinecone.\n",
    "\n",
    "In this example, we will generate product recommendations for ecommerce customers based on previous orders and trending items. This example covers preparing the vector embeddings, creating and deploying the Pinecone service, writing data to Pinecone, and finally querying Pinecone to receive a ranked list of recommended products."
   ]
  },
  {
   "attachments": {},
   "cell_type": "markdown",
   "metadata": {},
   "source": [
    "---\n",
    "\n",
    "🚨 _Note that running this on CPU is slow! If running on Google Colab you go to **Runtime > Change runtime type > Hardware accelerator > GPU** to switch to GPU._\n",
    "\n",
    "---"
   ]
  },
  {
   "attachments": {},
   "cell_type": "markdown",
   "metadata": {
    "id": "XvrvUTLvt5G7"
   },
   "source": [
    "## Data Preparation"
   ]
  },
  {
   "cell_type": "code",
   "execution_count": null,
   "metadata": {},
   "outputs": [],
   "source": [
    "!pip install -qU numpy pandas scipy"
   ]
  },
  {
   "attachments": {},
   "cell_type": "markdown",
   "metadata": {
    "id": "dG4733cIt5G8"
   },
   "source": [
    "**Import Python Libraries**"
   ]
  },
  {
   "cell_type": "code",
   "execution_count": 1,
   "metadata": {
    "id": "emp_MSXZt5G8"
   },
   "outputs": [],
   "source": [
    "import os\n",
    "import time\n",
    "import numpy as np\n",
    "import pandas as pd\n",
    "import scipy.sparse as sparse\n",
    "import itertools"
   ]
  },
  {
   "cell_type": "code",
   "execution_count": null,
   "metadata": {},
   "outputs": [],
   "source": [
    "!pip install -qU kaggle"
   ]
  },
  {
   "cell_type": "code",
   "execution_count": null,
   "metadata": {},
   "outputs": [],
   "source": [
    "try:\n",
    "    import kaggle\n",
    "except OSError as e:\n",
    "    print(e)"
   ]
  },
  {
   "attachments": {},
   "cell_type": "markdown",
   "metadata": {},
   "source": [
    "The first time you `import kaggle` you will see an `OSError`, that is because we need to add our Kaggle credentials to the `/root/.kaggle/kaggle.json` file. You can find these credentials on [Kaggle](https://kaggle.com) by accessing your profile in the top-right corner of the page. This will download a `kaggle.json` file which contains your username and secret key. You can enter them below:"
   ]
  },
  {
   "cell_type": "code",
   "execution_count": null,
   "metadata": {},
   "outputs": [],
   "source": [
    "import json\n",
    "\n",
    "with open('/root/.kaggle/kaggle.json', 'w') as fp:\n",
    "    fp.write(json.dumps({\"username\":\"YOUR_USERNAME\",\"key\":\"YOUR_SECRET_KEY\"}))"
   ]
  },
  {
   "attachments": {},
   "cell_type": "markdown",
   "metadata": {},
   "source": [
    "Now we can download the dataset:"
   ]
  },
  {
   "cell_type": "code",
   "execution_count": null,
   "metadata": {},
   "outputs": [],
   "source": [
    "!kaggle competitions download -c instacart-market-basket-analysis"
   ]
  },
  {
   "attachments": {},
   "cell_type": "markdown",
   "metadata": {},
   "source": [
    "This downloads a set of zip files, we extract them like so:"
   ]
  },
  {
   "cell_type": "code",
   "execution_count": null,
   "metadata": {},
   "outputs": [],
   "source": [
    "import zipfile\n",
    "\n",
    "files = [\n",
    "    'instacart-market-basket-analysis.zip',\n",
    "    'order_products__train.csv.zip',\n",
    "    'order_products__prior.csv.zip',\n",
    "    'products.csv.zip',\n",
    "    'orders.csv.zip'\n",
    "]\n",
    "\n",
    "for filename in files:\n",
    "    with zipfile.ZipFile(filename, 'r') as zip_ref:\n",
    "        zip_ref.extractall('./')"
   ]
  },
  {
   "attachments": {},
   "cell_type": "markdown",
   "metadata": {},
   "source": [
    "Now we can move on to loading the dataset."
   ]
  },
  {
   "attachments": {},
   "cell_type": "markdown",
   "metadata": {
    "id": "xYHyJO15t5G-"
   },
   "source": [
    "**Load the (Example) Instacart Data**"
   ]
  },
  {
   "attachments": {},
   "cell_type": "markdown",
   "metadata": {
    "id": "Oxgd8tjXt5G-"
   },
   "source": [
    "We are going to use the [Instacart Market Basket Analysis](https://www.kaggle.com/c/instacart-market-basket-analysis/data) dataset for this task.\n",
    "\n",
    "The data used throughout this example is a set of files describing customers' orders over time. The main focus is on the *orders.csv* file, where each line represents a relation between a user and the order. In other words, each line has information on *userid* (user who made the order) and *orderid*. Note there is no information about products in this table. Product information related to specific orders is stored in the *order_product__*.csv* dataset."
   ]
  },
  {
   "cell_type": "code",
   "execution_count": 2,
   "metadata": {
    "id": "cBbbR7Rut5G_"
   },
   "outputs": [],
   "source": [
    "order_products_train = pd.read_csv('order_products__train.csv')\n",
    "order_products_prior = pd.read_csv('order_products__prior.csv')\n",
    "products = pd.read_csv('products.csv')\n",
    "orders = pd.read_csv('orders.csv')\n",
    "\n",
    "order_products = pd.concat([order_products_train, order_products_prior])"
   ]
  },
  {
   "attachments": {},
   "cell_type": "markdown",
   "metadata": {
    "id": "XecuCyNlt5HA"
   },
   "source": [
    "**Preparing data for the model**\n"
   ]
  },
  {
   "attachments": {},
   "cell_type": "markdown",
   "metadata": {
    "id": "5FV_GGjst5HA"
   },
   "source": [
    "The Collaborative Filtering model used in this example requires only users’ historical preferences on a set of items. As there is no explicit rating in the data we are using, the purchase quantity can represent a “confidence” in terms of how strong the interaction was between the user and the products.\n",
    "\n",
    "The dataframe data will store this data and will be the base for the model."
   ]
  },
  {
   "cell_type": "code",
   "execution_count": 3,
   "metadata": {
    "id": "ZjRh7RYpt5HB"
   },
   "outputs": [],
   "source": [
    "customer_order_products = pd.merge(orders, order_products, how='inner',on='order_id')\n",
    "\n",
    "# creating a table with \"confidences\"\n",
    "data = customer_order_products.groupby(['user_id', 'product_id'])[['order_id']].count().reset_index()\n",
    "data.columns=[\"user_id\", \"product_id\", \"total_orders\"]\n",
    "data.product_id = data.product_id.astype('int64')\n",
    "\n",
    "# Create a lookup frame so we can get the product names back in readable form later.\n",
    "products_lookup = products[['product_id', 'product_name']].drop_duplicates()\n",
    "products_lookup['product_id'] = products_lookup.product_id.astype('int64')"
   ]
  },
  {
   "attachments": {},
   "cell_type": "markdown",
   "metadata": {
    "id": "77lvwm0St5HC"
   },
   "source": [
    "We will create two prototype users here and add them to our data dataframe. Each user will be buying only a specific product:\n",
    "- The first user will be buying only **Mineral Water**\n",
    "- The second user will be buying baby products: **No More Tears Baby Shampoo** and **Baby Wash & Shampoo**\n",
    "\n",
    "These users will be later used for querying and examination of the model results."
   ]
  },
  {
   "cell_type": "code",
   "execution_count": 4,
   "metadata": {
    "id": "A06EfAf-t5HC",
    "outputId": "d040560e-4401-47d4-8749-fb1bb9397a29"
   },
   "outputs": [
    {
     "data": {
      "text/html": [
       "<div>\n",
       "<style scoped>\n",
       "    .dataframe tbody tr th:only-of-type {\n",
       "        vertical-align: middle;\n",
       "    }\n",
       "\n",
       "    .dataframe tbody tr th {\n",
       "        vertical-align: top;\n",
       "    }\n",
       "\n",
       "    .dataframe thead th {\n",
       "        text-align: right;\n",
       "    }\n",
       "</style>\n",
       "<table border=\"1\" class=\"dataframe\">\n",
       "  <thead>\n",
       "    <tr style=\"text-align: right;\">\n",
       "      <th></th>\n",
       "      <th>user_id</th>\n",
       "      <th>product_id</th>\n",
       "      <th>total_orders</th>\n",
       "    </tr>\n",
       "  </thead>\n",
       "  <tbody>\n",
       "    <tr>\n",
       "      <th>0</th>\n",
       "      <td>206210</td>\n",
       "      <td>22802</td>\n",
       "      <td>97</td>\n",
       "    </tr>\n",
       "    <tr>\n",
       "      <th>1</th>\n",
       "      <td>206211</td>\n",
       "      <td>26834</td>\n",
       "      <td>89</td>\n",
       "    </tr>\n",
       "    <tr>\n",
       "      <th>2</th>\n",
       "      <td>206211</td>\n",
       "      <td>12590</td>\n",
       "      <td>77</td>\n",
       "    </tr>\n",
       "  </tbody>\n",
       "</table>\n",
       "</div>"
      ],
      "text/plain": [
       "   user_id  product_id  total_orders\n",
       "0   206210       22802            97\n",
       "1   206211       26834            89\n",
       "2   206211       12590            77"
      ]
     },
     "execution_count": 4,
     "metadata": {},
     "output_type": "execute_result"
    }
   ],
   "source": [
    "data_new = pd.DataFrame([[data.user_id.max() + 1, 22802, 97],\n",
    "                         [data.user_id.max() + 2, 26834, 89],\n",
    "                         [data.user_id.max() + 2, 12590, 77]\n",
    "                        ], columns=['user_id', 'product_id', 'total_orders'])\n",
    "data_new"
   ]
  },
  {
   "cell_type": "code",
   "execution_count": 5,
   "metadata": {
    "id": "mNIJ2hq6t5HD",
    "outputId": "cf155dc8-82ba-4f29-9cba-49d8a5052db9"
   },
   "outputs": [
    {
     "data": {
      "text/html": [
       "<div>\n",
       "<style scoped>\n",
       "    .dataframe tbody tr th:only-of-type {\n",
       "        vertical-align: middle;\n",
       "    }\n",
       "\n",
       "    .dataframe tbody tr th {\n",
       "        vertical-align: top;\n",
       "    }\n",
       "\n",
       "    .dataframe thead th {\n",
       "        text-align: right;\n",
       "    }\n",
       "</style>\n",
       "<table border=\"1\" class=\"dataframe\">\n",
       "  <thead>\n",
       "    <tr style=\"text-align: right;\">\n",
       "      <th></th>\n",
       "      <th>user_id</th>\n",
       "      <th>product_id</th>\n",
       "      <th>total_orders</th>\n",
       "    </tr>\n",
       "  </thead>\n",
       "  <tbody>\n",
       "    <tr>\n",
       "      <th>13863744</th>\n",
       "      <td>206209</td>\n",
       "      <td>48697</td>\n",
       "      <td>1</td>\n",
       "    </tr>\n",
       "    <tr>\n",
       "      <th>13863745</th>\n",
       "      <td>206209</td>\n",
       "      <td>48742</td>\n",
       "      <td>2</td>\n",
       "    </tr>\n",
       "    <tr>\n",
       "      <th>13863746</th>\n",
       "      <td>206210</td>\n",
       "      <td>22802</td>\n",
       "      <td>97</td>\n",
       "    </tr>\n",
       "    <tr>\n",
       "      <th>13863747</th>\n",
       "      <td>206211</td>\n",
       "      <td>26834</td>\n",
       "      <td>89</td>\n",
       "    </tr>\n",
       "    <tr>\n",
       "      <th>13863748</th>\n",
       "      <td>206211</td>\n",
       "      <td>12590</td>\n",
       "      <td>77</td>\n",
       "    </tr>\n",
       "  </tbody>\n",
       "</table>\n",
       "</div>"
      ],
      "text/plain": [
       "          user_id  product_id  total_orders\n",
       "13863744   206209       48697             1\n",
       "13863745   206209       48742             2\n",
       "13863746   206210       22802            97\n",
       "13863747   206211       26834            89\n",
       "13863748   206211       12590            77"
      ]
     },
     "execution_count": 5,
     "metadata": {},
     "output_type": "execute_result"
    }
   ],
   "source": [
    "data = pd.concat([data, data_new]).reset_index(drop = True)\n",
    "data.tail()"
   ]
  },
  {
   "attachments": {},
   "cell_type": "markdown",
   "metadata": {
    "id": "xBC-8PFTt5HD"
   },
   "source": [
    "In the next step, we will first extract user and item unique ids, in order to create a CSR (Compressed Sparse Row) matrix. \n"
   ]
  },
  {
   "cell_type": "code",
   "execution_count": 6,
   "metadata": {
    "id": "v2_2R7zmt5HE"
   },
   "outputs": [],
   "source": [
    "users = list(np.sort(data.user_id.unique()))\n",
    "items = list(np.sort(products.product_id.unique()))\n",
    "purchases = list(data.total_orders)\n",
    "\n",
    "# create zero-based index position <-> user/item ID mappings\n",
    "index_to_user = pd.Series(users)\n",
    "\n",
    "# create reverse mappings from user/item ID to index positions\n",
    "user_to_index = pd.Series(data=index_to_user.index + 1, index=index_to_user.values)\n",
    "\n",
    "# create zero-based index position <-> item/user ID mappings\n",
    "index_to_item = pd.Series(items)\n",
    "\n",
    "# create reverse mapping from item/user ID to index positions\n",
    "item_to_index = pd.Series(data=index_to_item.index, index=index_to_item.values)\n",
    "\n",
    "# Get the rows and columns for our new matrix\n",
    "products_rows = data.product_id.astype(int)\n",
    "users_cols = data.user_id.astype(int)\n",
    "\n",
    "# Create a sparse matrix for our users and products containing number of purchases\n",
    "sparse_product_user = sparse.csr_matrix((purchases, (products_rows, users_cols)), shape=(len(items) + 1, len(users) + 1))\n",
    "sparse_product_user.data = np.nan_to_num(sparse_product_user.data, copy=False)\n",
    "\n",
    "sparse_user_product = sparse.csr_matrix((purchases, (users_cols, products_rows)), shape=(len(users) + 1, len(items) + 1))\n",
    "sparse_user_product.data = np.nan_to_num(sparse_user_product.data, copy=False)"
   ]
  },
  {
   "attachments": {},
   "cell_type": "markdown",
   "metadata": {
    "id": "VrHSgtvht5HE"
   },
   "source": [
    "## Implicit Model"
   ]
  },
  {
   "attachments": {},
   "cell_type": "markdown",
   "metadata": {
    "id": "II6wOH96t5HF"
   },
   "source": [
    "In this section we will demonstrate creation and training of a recommender model using the **implicit** library. The recommendation model is based off the algorithms described in the paper [Collaborative Filtering for Implicit Feedback Datasets](https://www.researchgate.net/publication/220765111_Collaborative_Filtering_for_Implicit_Feedback_Datasets) with performance optimizations described in [Applications of the Conjugate Gradient Method for Implicit Feedback Collaborative Filtering](https://citeseerx.ist.psu.edu/viewdoc/download?doi=10.1.1.379.6473&rep=rep1&type=pdf).\n"
   ]
  },
  {
   "cell_type": "code",
   "execution_count": null,
   "metadata": {
    "id": "OFHfWKD9t5HF"
   },
   "outputs": [],
   "source": [
    "!pip install -qU implicit"
   ]
  },
  {
   "cell_type": "code",
   "execution_count": 7,
   "metadata": {
    "colab": {
     "referenced_widgets": [
      "f9f40f34ce41471e9385b2745c39df66"
     ]
    },
    "id": "k0GW99kxt5HF",
    "outputId": "6dccdd29-eea1-421e-d2b3-cd87c588c606"
   },
   "outputs": [
    {
     "data": {
      "application/vnd.jupyter.widget-view+json": {
       "model_id": "c4501d791ea4444d9978dfedc1047996",
       "version_major": 2,
       "version_minor": 0
      },
      "text/plain": [
       "  0%|          | 0/50 [00:00<?, ?it/s]"
      ]
     },
     "metadata": {},
     "output_type": "display_data"
    }
   ],
   "source": [
    "import implicit\n",
    "from implicit import evaluation\n",
    "\n",
    "#split data into train and test sets\n",
    "train_set, test_set = evaluation.train_test_split(sparse_user_product, train_percentage=0.9)\n",
    "\n",
    "# initialize a model\n",
    "model = implicit.als.AlternatingLeastSquares(factors=100,\n",
    "                                             regularization=0.05,\n",
    "                                             iterations=50,\n",
    "                                             num_threads=1)\n",
    "\n",
    "alpha_val = 15\n",
    "train_set = (train_set * alpha_val).astype('double')\n",
    "\n",
    "# train the model on a sparse matrix of item/user/confidence weights\n",
    "model.fit(train_set, show_progress = True)"
   ]
  },
  {
   "attachments": {},
   "cell_type": "markdown",
   "metadata": {
    "id": "yN80hSojt5HF"
   },
   "source": [
    "We will evaluate the model using the inbuilt library function"
   ]
  },
  {
   "cell_type": "code",
   "execution_count": 8,
   "metadata": {
    "colab": {
     "referenced_widgets": [
      "9611edb2a0584f3e88f2c8f0aac1c86d"
     ]
    },
    "id": "BbD8of_nt5HG",
    "outputId": "7fdb7da2-a4b2-47ba-d93e-2463c9a40004"
   },
   "outputs": [
    {
     "data": {
      "application/vnd.jupyter.widget-view+json": {
       "model_id": "0fbbac8538934369a6342f28470aee65",
       "version_major": 2,
       "version_minor": 0
      },
      "text/plain": [
       "  0%|          | 0/192835 [00:00<?, ?it/s]"
      ]
     },
     "metadata": {},
     "output_type": "display_data"
    },
    {
     "data": {
      "text/plain": [
       "{'precision': 0.27546883229828883,\n",
       " 'map': 0.0442792123139327,\n",
       " 'ndcg': 0.14407831615017366,\n",
       " 'auc': 0.6548804124633053}"
      ]
     },
     "execution_count": 8,
     "metadata": {},
     "output_type": "execute_result"
    }
   ],
   "source": [
    "test_set = (test_set * alpha_val).astype('double')\n",
    "evaluation.ranking_metrics_at_k(model, train_set, test_set, K=100,\n",
    "                         show_progress=True, num_threads=1)"
   ]
  },
  {
   "attachments": {},
   "cell_type": "markdown",
   "metadata": {
    "id": "LNmva3Dlt5HG"
   },
   "source": [
    "This is what item and user factors look like. These vectors will be stored in our vector index later and used for recommendation."
   ]
  },
  {
   "cell_type": "code",
   "execution_count": 9,
   "metadata": {
    "id": "JUtCROQKt5HG",
    "outputId": "af356153-eed8-4457-fe64-94c1607f1abc"
   },
   "outputs": [
    {
     "data": {
      "text/plain": [
       "Matrix([[-1.41394716e-02 -7.85469078e-03 -6.01551216e-03 -1.85511466e-02\n",
       "  -6.40676357e-03 -6.40198728e-03 -9.99970455e-03 -6.54193107e-03\n",
       "  -1.37126567e-02  2.32426543e-02 -5.20094018e-03  4.09194094e-04\n",
       "   4.56247712e-03  2.38485597e-02 -2.40435777e-03  1.37668541e-02\n",
       "   4.93924553e-03  4.07793187e-03  3.79170594e-03 -9.46274493e-03\n",
       "  -3.37003507e-02  7.73684448e-03 -3.53912963e-03  6.12016162e-03\n",
       "   6.61744131e-03  6.96701044e-03  1.82978553e-03 -1.95304537e-03\n",
       "   5.16883971e-04 -5.81818447e-03 -1.21214204e-02  2.82692560e-03\n",
       "   6.13338128e-03  8.66098388e-04  4.47903853e-03  6.42127078e-03\n",
       "  -1.13449607e-03  6.67106453e-03 -1.47818150e-02 -1.05382055e-02\n",
       "  -5.65192988e-03 -7.19359657e-03 -5.67766372e-03  9.10092425e-03\n",
       "   1.63281581e-03 -1.07810339e-02 -1.59825142e-02  2.09339429e-03\n",
       "   3.83407023e-04  3.98562806e-05 -2.75215018e-04 -1.28855673e-03\n",
       "  -2.12697368e-02 -5.48941409e-03  2.44746823e-03 -1.80884488e-02\n",
       "   7.99474958e-03 -1.63389388e-02 -1.31361966e-03 -1.30685801e-02\n",
       "   8.40841327e-03  1.19379256e-02  2.14789957e-02 -2.17984477e-03\n",
       "   9.11069661e-03 -1.30536789e-02 -1.74908843e-02  1.18629700e-02\n",
       "   4.10536490e-03  1.27284480e-02  2.91834644e-04 -1.33054284e-02\n",
       "  -2.46475148e-03 -2.78456658e-02 -7.82055873e-03 -1.67415233e-03\n",
       "  -1.08995596e-02  6.03640778e-03  6.68349501e-04  3.79880634e-03\n",
       "  -1.33302680e-03 -5.02485875e-03  5.14433300e-03 -1.21260406e-02\n",
       "   3.97514738e-03 -1.71979908e-02  9.12611315e-04 -3.36480234e-03\n",
       "   8.18908587e-03  1.21863410e-02  5.63969184e-03 -9.67776868e-03\n",
       "  -6.17270311e-03  1.07225729e-03  5.72732603e-03  4.96554538e-04\n",
       "   1.17661627e-02 -4.80289338e-04 -6.83996454e-03 -1.82934687e-04]\n",
       " [ 4.58104908e-03 -9.47315930e-05 -1.37965917e-03 -1.05279230e-03\n",
       "   2.04656110e-03  4.54079418e-05  1.28692633e-03 -1.40158611e-03\n",
       "  -1.50767714e-03 -1.62766653e-03  1.24953233e-03  1.58662419e-03\n",
       "   1.71653065e-03 -3.43385502e-04  4.62111173e-04 -1.20020634e-03\n",
       "   6.83864870e-04 -8.56079350e-05 -4.03366575e-04  6.22826163e-04\n",
       "  -3.61228245e-03 -1.87378973e-04  5.20281901e-04 -2.02825596e-03\n",
       "   6.20573759e-04  7.47757091e-04  2.01720209e-03 -1.76752359e-03\n",
       "  -4.29199496e-03  3.09789390e-03 -2.38191755e-03 -1.58771640e-03\n",
       "  -2.65843445e-03 -2.47315242e-04 -9.48340225e-04  1.51613005e-03\n",
       "  -1.15929695e-03  2.56440206e-03  3.03319818e-03  1.20148074e-03\n",
       "  -5.96574100e-04 -4.28037345e-03  1.27079699e-03  9.94639588e-04\n",
       "  -7.15284375e-04  2.59503489e-03  1.53159490e-03 -3.41886152e-05\n",
       "   2.23812019e-03 -8.39329325e-04  1.36294926e-03 -1.63665821e-03\n",
       "  -2.87591899e-03  3.51688301e-04  1.63081207e-03  2.76347273e-03\n",
       "   1.65961892e-03  2.52703275e-03 -1.40739465e-03  5.17948810e-03\n",
       "  -1.51875647e-04 -3.03691952e-03 -1.04427279e-03 -1.05637836e-03\n",
       "   3.85837193e-04  1.50371878e-03 -1.09035533e-03  1.15030527e-03\n",
       "   6.35977703e-05 -1.49915670e-03 -1.60400628e-03  2.96901027e-03\n",
       "   1.27972034e-03 -1.49834098e-03 -1.11023267e-03 -1.60765846e-03\n",
       "  -2.03095982e-03  1.26317283e-03  5.57399821e-04 -5.75814163e-04\n",
       "  -1.02795218e-03  1.97235565e-03 -2.04035081e-03 -1.35745399e-03\n",
       "   7.40458127e-05 -2.23587384e-03  5.70195916e-05 -1.03699404e-03\n",
       "   2.04336317e-03  2.97781453e-03 -1.05289207e-03 -3.18431412e-03\n",
       "   4.28558560e-03 -1.07672578e-03 -2.20649457e-03 -6.56570075e-04\n",
       "  -3.02596297e-03  4.63319971e-04  4.30871826e-03  5.84606860e-05]])"
      ]
     },
     "execution_count": 9,
     "metadata": {},
     "output_type": "execute_result"
    }
   ],
   "source": [
    "model.item_factors[1:3]"
   ]
  },
  {
   "cell_type": "code",
   "execution_count": 10,
   "metadata": {
    "id": "O3onbJmnt5HG",
    "outputId": "0c7cbbbc-eb8c-4a8f-da75-a16e62693cc3"
   },
   "outputs": [
    {
     "data": {
      "text/plain": [
       "Matrix([[ 7.72843719e-01 -1.88261974e+00 -1.27751648e-01  5.55098593e-01\n",
       "   4.16630119e-01 -2.85241336e-01 -2.51213849e-01  2.52275467e-01\n",
       "  -6.30572319e-01  2.56867218e+00 -2.22353451e-02 -5.78172445e-01\n",
       "   5.85655496e-02  2.69911575e+00 -1.11881077e+00  2.72573322e-01\n",
       "   1.02800310e+00  6.58825710e-02  5.10158718e-01  7.06521451e-01\n",
       "  -1.90171802e+00  2.22235203e+00 -4.53002751e-01 -1.60160914e-01\n",
       "   1.26648879e+00 -1.77729237e+00 -3.30207407e-01 -8.64066541e-01\n",
       "  -1.42625049e-01 -3.02950472e-01 -4.74009961e-01  2.72439986e-01\n",
       "   7.28228986e-01  8.94330084e-01  7.64488697e-01  1.02250576e+00\n",
       "   1.49344444e+00  7.49285698e-01 -3.64517123e-01  3.44786733e-01\n",
       "   7.40179420e-01 -1.48939848e-01 -1.77640104e+00 -1.45238030e+00\n",
       "   2.03178763e+00 -4.96528417e-01 -7.29420125e-01  9.72527504e-01\n",
       "  -1.51985908e+00 -5.60409091e-02  1.47466981e+00 -4.86016124e-01\n",
       "  -1.01080215e+00 -1.12702656e+00  3.32015932e-01 -1.14880002e+00\n",
       "   3.45389396e-01 -2.14261603e+00 -6.07559383e-01 -7.68664241e-01\n",
       "   9.03057873e-01 -7.94925749e-01  2.37208858e-01  1.10748112e+00\n",
       "   1.15570891e+00  9.00735915e-01 -1.70523989e+00  2.34759617e+00\n",
       "   6.11078262e-01  1.29387236e+00  2.57149935e-01 -8.39283228e-01\n",
       "  -5.06622016e-01 -2.92553735e+00 -7.18145847e-01  5.00301480e-01\n",
       "  -1.20473194e+00 -3.40396047e-01 -3.70414823e-01 -3.14449608e-01\n",
       "  -1.80195212e-01  1.89312041e-01  1.10018206e+00  1.50790679e+00\n",
       "   1.50212471e-03 -7.85413504e-01  7.42661715e-01 -1.86909652e+00\n",
       "   1.27880728e+00  9.02968273e-02  2.22753838e-01 -1.28175330e+00\n",
       "   7.46763349e-02  1.29501033e+00 -8.71558487e-01  6.52706027e-01\n",
       "   1.19867682e+00  1.17349364e-01  3.89426947e-01  3.56662385e-02]\n",
       " [-2.65457511e+00 -2.07763076e+00 -4.44251388e-01 -2.75986075e-01\n",
       "   1.30007339e+00 -8.33949447e-01 -3.54159027e-02  2.46752906e+00\n",
       "   3.09352845e-01  3.77690125e+00 -8.66889596e-01  1.11660266e+00\n",
       "   2.98557949e+00  8.34910452e-01  2.60513711e+00 -8.45222324e-02\n",
       "   2.26884812e-01  1.95150459e+00 -1.35200095e+00  1.02156556e+00\n",
       "   1.31123662e+00  1.21783209e+00 -1.50873375e+00 -2.41045117e+00\n",
       "  -2.01876700e-01 -3.02251196e+00 -8.21500897e-01 -1.28199637e-01\n",
       "   3.13918293e-01 -1.76107979e+00  3.48987356e-02 -4.13205475e-02\n",
       "  -1.22184968e+00  1.23786867e-01  5.63687086e-01 -2.84874725e+00\n",
       "   3.75919294e+00  5.73479533e-01  1.71115041e+00  1.10166776e+00\n",
       "   1.69223964e+00 -1.27167833e+00  2.13835597e-01 -3.80220443e-01\n",
       "   2.82207608e-01  5.42960465e-01 -1.35837114e+00  1.14550555e+00\n",
       "  -1.37015545e+00 -8.11164439e-01 -1.51950526e+00 -1.46524477e+00\n",
       "   3.17042947e-01  1.50494647e+00 -1.55413902e+00 -1.76495075e+00\n",
       "   5.34437358e-01 -5.59397221e-01 -6.74735427e-01 -1.60011280e+00\n",
       "   2.04355478e+00 -2.86223388e+00 -2.59156108e+00  7.34546065e-01\n",
       "  -1.02675930e-02  1.56318867e+00 -2.46917129e+00  3.36643368e-01\n",
       "  -5.96560419e-01 -3.41176599e-01  6.79210424e-01 -1.72397375e+00\n",
       "  -4.62741852e-01  2.36090517e+00  1.39462686e+00 -8.05148780e-02\n",
       "  -6.64402246e-01  1.38114870e+00  7.74439692e-01 -1.30158651e+00\n",
       "  -2.36812639e+00 -1.55317211e+00  1.86453831e+00  7.93352246e-01\n",
       "   1.17102563e-01  1.75491476e+00  7.34290957e-01 -2.14124155e+00\n",
       "  -3.80642986e+00  8.28724921e-01 -1.28583163e-01  1.32406425e+00\n",
       "   4.14802742e+00 -1.89647424e+00  3.41710877e+00 -5.19288145e-02\n",
       "   2.80959487e+00 -8.27011466e-01 -1.81386793e+00 -1.96223065e-01]])"
      ]
     },
     "execution_count": 10,
     "metadata": {},
     "output_type": "execute_result"
    }
   ],
   "source": [
    "model.user_factors[1:3]"
   ]
  },
  {
   "attachments": {},
   "cell_type": "markdown",
   "metadata": {
    "id": "n2ymVmqct5HH"
   },
   "source": [
    "## Configure Pinecone"
   ]
  },
  {
   "attachments": {},
   "cell_type": "markdown",
   "metadata": {
    "id": "YSRAKA56t5HH"
   },
   "source": [
    "Install and setup Pinecone"
   ]
  },
  {
   "cell_type": "code",
   "execution_count": null,
   "metadata": {
    "id": "oxZDkCjht5HH"
   },
   "outputs": [],
   "source": [
    "!pip install -qU pinecone-client"
   ]
  },
  {
   "cell_type": "code",
   "execution_count": 11,
   "metadata": {
    "id": "mOEmO-yft5HH"
   },
   "outputs": [],
   "source": [
    "from pinecone import Pinecone, ServerlessSpec"
   ]
  },
  {
   "cell_type": "code",
   "execution_count": 12,
   "metadata": {
    "id": "3_ykVLT6t5HH"
   },
   "outputs": [],
   "source": [
    "# Load Pinecone API key\n",
    "api_key = os.getenv(\"PINECONE_API_KEY\") or \"d11bd0fa-9723-487b-ae13-7f51b5b22772\"\n",
    "# Set Pinecone environment. Find next to API key in console\n",
    "env = os.getenv('PINECONE_ENVIRONMENT') or \"YOUR_ENV\"\n",
    "\n",
    "# init connection to pinecone\n",
    "pinecone = Pinecone(api_key=api_key)\n",
    "spec=ServerlessSpec(\n",
    "        cloud=\"aws\",\n",
    "        region=\"us-west-2\",\n",
    "    )"
   ]
  },
  {
   "attachments": {},
   "cell_type": "markdown",
   "metadata": {
    "id": "KpWkJa-Dt5HH"
   },
   "source": [
    "[Get a Pinecone API key](http://app.pinecone.io/) if you don't have one."
   ]
  },
  {
   "cell_type": "code",
   "execution_count": 13,
   "metadata": {
    "id": "By8wu8B3t5HH",
    "outputId": "57b1aa59-d440-4f83-e3bd-3170d4f39a94"
   },
   "outputs": [
    {
     "data": {
      "text/plain": [
       "['product-recommender', 'question-answering', 'hybrid-image-search']"
      ]
     },
     "execution_count": 13,
     "metadata": {},
     "output_type": "execute_result"
    }
   ],
   "source": [
    "#List all present indexes associated with your key, should be empty on the first run\n",
    "pinecone.list_indexes().names()"
   ]
  },
  {
   "attachments": {},
   "cell_type": "markdown",
   "metadata": {
    "id": "YQx7UIDOt5HI"
   },
   "source": [
    "**Create an Index**"
   ]
  },
  {
   "cell_type": "code",
   "execution_count": 14,
   "metadata": {
    "id": "4VDr7Wqst5HI"
   },
   "outputs": [],
   "source": [
    "# Set a name for your index\n",
    "index_name = 'product-recommender'"
   ]
  },
  {
   "cell_type": "code",
   "execution_count": 15,
   "metadata": {
    "id": "ufHsF0o4t5HI"
   },
   "outputs": [],
   "source": [
    "# Make sure service with the same name does not exist\n",
    "if index_name in pinecone.list_indexes().names():\n",
    "    pinecone.delete_index(index_name)\n",
    "pinecone.create_index(name=index_name, dimension=100, spec=spec)"
   ]
  },
  {
   "attachments": {},
   "cell_type": "markdown",
   "metadata": {
    "id": "v50hrlJNt5HI"
   },
   "source": [
    "**Connect to the new index**"
   ]
  },
  {
   "cell_type": "code",
   "execution_count": 16,
   "metadata": {
    "id": "ONg-J3ost5HI"
   },
   "outputs": [],
   "source": [
    "host = pinecone.describe_index(name=index_name).host\n",
    "index = pinecone.Index(host=host)"
   ]
  },
  {
   "attachments": {},
   "cell_type": "markdown",
   "metadata": {
    "id": "8BjfHb2Ht5HI"
   },
   "source": [
    "## Load Data"
   ]
  },
  {
   "attachments": {},
   "cell_type": "markdown",
   "metadata": {
    "id": "0-2K-g4-t5HJ"
   },
   "source": [
    "Uploading all items (products that one can buy) and displaying some examples of products and their vector representations.\n"
   ]
  },
  {
   "cell_type": "code",
   "execution_count": null,
   "metadata": {},
   "outputs": [],
   "source": [
    "!pip install -qU torch"
   ]
  },
  {
   "cell_type": "code",
   "execution_count": 17,
   "metadata": {
    "id": "NOOPF9zOt5HJ",
    "outputId": "397b0227-0394-4fd6-e97c-bbd0ba7422ea"
   },
   "outputs": [
    {
     "data": {
      "text/plain": [
       "[('1',\n",
       "  [-0.01413947157561779,\n",
       "   -0.00785469077527523,\n",
       "   -0.00601551216095686,\n",
       "   -0.018551146611571312,\n",
       "   -0.006406763568520546,\n",
       "   -0.0064019872806966305,\n",
       "   -0.009999704547226429,\n",
       "   -0.0065419310703873634,\n",
       "   -0.013712656684219837,\n",
       "   0.023242654278874397,\n",
       "   -0.0052009401842951775,\n",
       "   0.00040919409366324544,\n",
       "   0.0045624771155416965,\n",
       "   0.023848559707403183,\n",
       "   -0.002404357772320509,\n",
       "   0.01376685407012701,\n",
       "   0.004939245525747538,\n",
       "   0.0040779318660497665,\n",
       "   0.0037917059380561113,\n",
       "   -0.009462744928896427,\n",
       "   -0.03370035067200661,\n",
       "   0.007736844476312399,\n",
       "   -0.003539129626005888,\n",
       "   0.00612016161903739,\n",
       "   0.0066174413077533245,\n",
       "   0.0069670104421675205,\n",
       "   0.0018297855276614428,\n",
       "   -0.0019530453719198704,\n",
       "   0.0005168839707039297,\n",
       "   -0.005818184465169907,\n",
       "   -0.012121420353651047,\n",
       "   0.0028269255999475718,\n",
       "   0.006133381277322769,\n",
       "   0.000866098387632519,\n",
       "   0.004479038529098034,\n",
       "   0.006421270780265331,\n",
       "   -0.001134496065787971,\n",
       "   0.006671064533293247,\n",
       "   -0.014781814999878407,\n",
       "   -0.01053820550441742,\n",
       "   -0.005651929881423712,\n",
       "   -0.007193596567958593,\n",
       "   -0.005677663721144199,\n",
       "   0.009100924246013165,\n",
       "   0.0016328158089891076,\n",
       "   -0.010781033895909786,\n",
       "   -0.01598251424729824,\n",
       "   0.002093394286930561,\n",
       "   0.0003834070230368525,\n",
       "   3.985628063674085e-05,\n",
       "   -0.00027521501760929823,\n",
       "   -0.0012885567266494036,\n",
       "   -0.02126973681151867,\n",
       "   -0.005489414092153311,\n",
       "   0.002447468228638172,\n",
       "   -0.018088448792696,\n",
       "   0.007994749583303928,\n",
       "   -0.01633893884718418,\n",
       "   -0.0013136196648702025,\n",
       "   -0.013068580068647861,\n",
       "   0.008408413268625736,\n",
       "   0.011937925592064857,\n",
       "   0.02147899568080902,\n",
       "   -0.00217984477058053,\n",
       "   0.009110696613788605,\n",
       "   -0.013053678907454014,\n",
       "   -0.01749088428914547,\n",
       "   0.01186296995729208,\n",
       "   0.00410536490380764,\n",
       "   0.012728448025882244,\n",
       "   0.0002918346435762942,\n",
       "   -0.013305428437888622,\n",
       "   -0.0024647514801472425,\n",
       "   -0.02784566581249237,\n",
       "   -0.007820558734238148,\n",
       "   -0.001674152328632772,\n",
       "   -0.0108995595946908,\n",
       "   0.00603640777990222,\n",
       "   0.0006683495012111962,\n",
       "   0.0037988063413649797,\n",
       "   -0.0013330267975106835,\n",
       "   -0.005024858750402927,\n",
       "   0.005144333001226187,\n",
       "   -0.012126040644943714,\n",
       "   0.003975147381424904,\n",
       "   -0.0171979907900095,\n",
       "   0.000912611314561218,\n",
       "   -0.003364802338182926,\n",
       "   0.008189085870981216,\n",
       "   0.012186340987682343,\n",
       "   0.005639691837131977,\n",
       "   -0.009677768684923649,\n",
       "   -0.006172703113406897,\n",
       "   0.0010722572915256023,\n",
       "   0.0057273260317742825,\n",
       "   0.0004965545376762748,\n",
       "   0.0117661627009511,\n",
       "   -0.0004802893381565809,\n",
       "   -0.006839964538812637,\n",
       "   -0.0001829346874728799],\n",
       "  {'title': 'Chocolate Sandwich Cookies'}),\n",
       " ('2',\n",
       "  [0.004581049084663391,\n",
       "   -9.473159298067912e-05,\n",
       "   -0.001379659166559577,\n",
       "   -0.0010527923004701734,\n",
       "   0.002046561101451516,\n",
       "   4.540794179774821e-05,\n",
       "   0.0012869263300672174,\n",
       "   -0.001401586108841002,\n",
       "   -0.001507677137851715,\n",
       "   -0.0016276665264740586,\n",
       "   0.001249532331712544,\n",
       "   0.001586624188348651,\n",
       "   0.0017165306489914656,\n",
       "   -0.0003433855017647147,\n",
       "   0.0004621111729647964,\n",
       "   -0.001200206344947219,\n",
       "   0.0006838648696430027,\n",
       "   -8.560793503420427e-05,\n",
       "   -0.00040336657548323274,\n",
       "   0.000622826162725687,\n",
       "   -0.0036122824531048536,\n",
       "   -0.00018737897335086018,\n",
       "   0.0005202819011174142,\n",
       "   -0.002028255956247449,\n",
       "   0.0006205737590789795,\n",
       "   0.0007477570907212794,\n",
       "   0.002017202088609338,\n",
       "   -0.0017675235867500305,\n",
       "   -0.004291994962841272,\n",
       "   0.0030978939030319452,\n",
       "   -0.002381917554885149,\n",
       "   -0.0015877163968980312,\n",
       "   -0.002658434445038438,\n",
       "   -0.00024731524172239006,\n",
       "   -0.0009483402245678008,\n",
       "   0.0015161300543695688,\n",
       "   -0.0011592969531193376,\n",
       "   0.002564402064308524,\n",
       "   0.003033198183402419,\n",
       "   0.0012014807434752584,\n",
       "   -0.0005965741002000868,\n",
       "   -0.004280373454093933,\n",
       "   0.0012707969872280955,\n",
       "   0.0009946395875886083,\n",
       "   -0.0007152843754738569,\n",
       "   0.002595034893602133,\n",
       "   0.0015315948985517025,\n",
       "   -3.4188615245511755e-05,\n",
       "   0.002238120185211301,\n",
       "   -0.0008393293246626854,\n",
       "   0.0013629492605105042,\n",
       "   -0.0016366582131013274,\n",
       "   -0.0028759189881384373,\n",
       "   0.0003516883007250726,\n",
       "   0.0016308120684698224,\n",
       "   0.00276347273029387,\n",
       "   0.0016596189234405756,\n",
       "   0.002527032746002078,\n",
       "   -0.001407394651323557,\n",
       "   0.0051794881001114845,\n",
       "   -0.00015187564713414758,\n",
       "   -0.003036919515579939,\n",
       "   -0.0010442727943882346,\n",
       "   -0.0010563783580437303,\n",
       "   0.00038583719287998974,\n",
       "   0.0015037187840789557,\n",
       "   -0.0010903553338721395,\n",
       "   0.0011503052664920688,\n",
       "   6.359777034958825e-05,\n",
       "   -0.0014991567004472017,\n",
       "   -0.0016040062764659524,\n",
       "   0.002969010267406702,\n",
       "   0.001279720338061452,\n",
       "   -0.0014983409782871604,\n",
       "   -0.0011102326679974794,\n",
       "   -0.001607658457942307,\n",
       "   -0.0020309598185122013,\n",
       "   0.0012631728313863277,\n",
       "   0.000557399820536375,\n",
       "   -0.0005758141633123159,\n",
       "   -0.0010279521811753511,\n",
       "   0.0019723556470125914,\n",
       "   -0.0020403508096933365,\n",
       "   -0.0013574539916589856,\n",
       "   7.404581265291199e-05,\n",
       "   -0.0022358738351613283,\n",
       "   5.701959162252024e-05,\n",
       "   -0.0010369940428063273,\n",
       "   0.0020433631725609303,\n",
       "   0.0029778145253658295,\n",
       "   -0.001052892068400979,\n",
       "   -0.0031843141186982393,\n",
       "   0.004285585600882769,\n",
       "   -0.0010767257772386074,\n",
       "   -0.002206494566053152,\n",
       "   -0.0006565700750797987,\n",
       "   -0.003025962971150875,\n",
       "   0.0004633199714589864,\n",
       "   0.004308718256652355,\n",
       "   5.846068597747944e-05],\n",
       "  {'title': 'All-Seasons Salt'})]"
      ]
     },
     "metadata": {},
     "output_type": "display_data"
    }
   ],
   "source": [
    "import torch\n",
    "\n",
    "# Get all of the items\n",
    "all_items_titles = [{'title': title} for title in products_lookup['product_name']]\n",
    "all_items_ids = [str(product_id) for product_id in products_lookup['product_id']]\n",
    "\n",
    "# Transform items into factors\n",
    "items_factors = model.item_factors\n",
    "\n",
    "device = \"cuda\" if torch.cuda.is_available() else \"cpu\"\n",
    "item_embeddings = items_factors[1:].to_numpy().tolist() if device == \"cuda\" else items_factors[1:].tolist()\n",
    "\n",
    "# Prepare item factors for upload\n",
    "items_to_insert = list(zip(all_items_ids, item_embeddings, all_items_titles))\n",
    "display(items_to_insert[:2])"
   ]
  },
  {
   "cell_type": "code",
   "execution_count": 18,
   "metadata": {},
   "outputs": [],
   "source": [
    "items_to_insert_no_zeros = []\n",
    "for item_id, item_embedding, item_title in items_to_insert:\n",
    "    if np.sum(item_embedding) == 0:\n",
    "        continue\n",
    "    items_to_insert_no_zeros.append((item_id, item_embedding, item_title))\n",
    "# items_to_insert = items_to_insert_no_zeros"
   ]
  },
  {
   "attachments": {},
   "cell_type": "markdown",
   "metadata": {
    "id": "YnEHPvuTt5HJ"
   },
   "source": [
    "**Insert items into the index**"
   ]
  },
  {
   "cell_type": "code",
   "execution_count": 19,
   "metadata": {
    "id": "BYwN6MI1t5HJ",
    "outputId": "ddcbfcd4-f620-414c-e59d-220dd28d9224"
   },
   "outputs": [
    {
     "name": "stdout",
     "output_type": "stream",
     "text": [
      "Index statistics before upsert: {'dimension': 100,\n",
      " 'index_fullness': 0.0,\n",
      " 'namespaces': {},\n",
      " 'total_vector_count': 0}\n"
     ]
    },
    {
     "data": {
      "application/vnd.jupyter.widget-view+json": {
       "model_id": "a9bb517d3b0b439592221813a8b2296f",
       "version_major": 2,
       "version_minor": 0
      },
      "text/plain": [
       "  0%|          | 0/50 [00:00<?, ?it/s]"
      ]
     },
     "metadata": {},
     "output_type": "display_data"
    },
    {
     "name": "stdout",
     "output_type": "stream",
     "text": [
      "Index statistics after upsert: {'dimension': 100,\n",
      " 'index_fullness': 0.0,\n",
      " 'namespaces': {'': {'vector_count': 48000}},\n",
      " 'total_vector_count': 48000}\n"
     ]
    }
   ],
   "source": [
    "from tqdm.auto import tqdm\n",
    "\n",
    "BATCH_SIZE = 1000\n",
    "\n",
    "print('Index statistics before upsert:', index.describe_index_stats())\n",
    "\n",
    "for i in tqdm(range(0, len(items_to_insert_no_zeros), BATCH_SIZE)):\n",
    "        index.upsert(vectors=items_to_insert_no_zeros[i:i+BATCH_SIZE])\n",
    "\n",
    "print('Index statistics after upsert:', index.describe_index_stats())"
   ]
  },
  {
   "attachments": {},
   "cell_type": "markdown",
   "metadata": {
    "id": "ibNMrxyRt5HK"
   },
   "source": [
    "This is a helper method for analysing recommendations later.\n",
    "This method returns top N products that someone bought in the past (based on product quantity)."
   ]
  },
  {
   "cell_type": "code",
   "execution_count": 20,
   "metadata": {
    "id": "Uzgk5Od0t5HK"
   },
   "outputs": [],
   "source": [
    "def products_bought_by_user_in_the_past(user_id: int, top: int = 10):\n",
    "\n",
    "    selected = data[data.user_id == user_id].sort_values(by=['total_orders'], ascending=False)\n",
    "\n",
    "    selected['product_name'] = selected['product_id'].map(products_lookup.set_index('product_id')['product_name'])\n",
    "    selected = selected[['product_id', 'product_name', 'total_orders']].reset_index(drop=True)\n",
    "    if selected.shape[0] < top:\n",
    "        return selected\n",
    "\n",
    "    return selected[:top]"
   ]
  },
  {
   "cell_type": "code",
   "execution_count": 21,
   "metadata": {
    "id": "1Gthi5Dkt5HK",
    "outputId": "2acc3a2f-2c14-41ae-e93e-b2b3190055e2"
   },
   "outputs": [
    {
     "data": {
      "text/html": [
       "<div>\n",
       "<style scoped>\n",
       "    .dataframe tbody tr th:only-of-type {\n",
       "        vertical-align: middle;\n",
       "    }\n",
       "\n",
       "    .dataframe tbody tr th {\n",
       "        vertical-align: top;\n",
       "    }\n",
       "\n",
       "    .dataframe thead th {\n",
       "        text-align: right;\n",
       "    }\n",
       "</style>\n",
       "<table border=\"1\" class=\"dataframe\">\n",
       "  <thead>\n",
       "    <tr style=\"text-align: right;\">\n",
       "      <th></th>\n",
       "      <th>user_id</th>\n",
       "      <th>product_id</th>\n",
       "      <th>total_orders</th>\n",
       "    </tr>\n",
       "  </thead>\n",
       "  <tbody>\n",
       "    <tr>\n",
       "      <th>13863744</th>\n",
       "      <td>206209</td>\n",
       "      <td>48697</td>\n",
       "      <td>1</td>\n",
       "    </tr>\n",
       "    <tr>\n",
       "      <th>13863745</th>\n",
       "      <td>206209</td>\n",
       "      <td>48742</td>\n",
       "      <td>2</td>\n",
       "    </tr>\n",
       "    <tr>\n",
       "      <th>13863746</th>\n",
       "      <td>206210</td>\n",
       "      <td>22802</td>\n",
       "      <td>97</td>\n",
       "    </tr>\n",
       "    <tr>\n",
       "      <th>13863747</th>\n",
       "      <td>206211</td>\n",
       "      <td>26834</td>\n",
       "      <td>89</td>\n",
       "    </tr>\n",
       "    <tr>\n",
       "      <th>13863748</th>\n",
       "      <td>206211</td>\n",
       "      <td>12590</td>\n",
       "      <td>77</td>\n",
       "    </tr>\n",
       "  </tbody>\n",
       "</table>\n",
       "</div>"
      ],
      "text/plain": [
       "          user_id  product_id  total_orders\n",
       "13863744   206209       48697             1\n",
       "13863745   206209       48742             2\n",
       "13863746   206210       22802            97\n",
       "13863747   206211       26834            89\n",
       "13863748   206211       12590            77"
      ]
     },
     "execution_count": 21,
     "metadata": {},
     "output_type": "execute_result"
    }
   ],
   "source": [
    "data.tail()"
   ]
  },
  {
   "attachments": {},
   "cell_type": "markdown",
   "metadata": {
    "id": "Xah1FIs0t5HK"
   },
   "source": [
    "## Query for Recommendations"
   ]
  },
  {
   "attachments": {},
   "cell_type": "markdown",
   "metadata": {
    "id": "ULyVnHEXt5HK"
   },
   "source": [
    "We are now retrieving user factors for users that we have manually created before for testing purposes. Besides these users, we are adding a random existing user. We are also displaying these users so you can see what these factors look like."
   ]
  },
  {
   "cell_type": "code",
   "execution_count": 22,
   "metadata": {
    "id": "Wwl7yFKTt5HK",
    "outputId": "b3baef91-2d00-4231-e546-2ee966f62d4d"
   },
   "outputs": [
    {
     "data": {
      "text/plain": [
       "Matrix([[-0.9932781   0.7298836  -0.7355154  -0.3178172  -0.83570546  0.3838572\n",
       "   1.4104426  -0.53419256 -0.99471194  0.9682674   0.2761275   2.60614\n",
       "  -0.84276426  0.3325556  -2.100275    1.4665682  -1.8413156   0.9841473\n",
       "  -1.1957644  -0.46671078  0.6769129   1.1916324   2.0404787   0.37906364\n",
       "  -0.29733145  0.20436129  0.9765735  -0.0219028  -1.0504111   0.43184435\n",
       "   0.80593705  1.4691627  -0.29978392  1.2219727  -0.6859106   1.0605284\n",
       "  -0.02738619 -0.9179155   0.04788572  0.5353661   0.5319488  -1.9663261\n",
       "  -0.580077   -1.1673372   0.7519745   0.2952755   1.144537    0.9853352\n",
       "   0.8791097  -2.3855267  -0.6126149   1.1957483   2.6311011   3.3263657\n",
       "  -1.564149   -2.4432511   0.8510721  -0.89020383 -0.7564133   1.0012891\n",
       "  -0.40617844 -0.7579703   1.0536174   3.2371724   0.34216052  0.49960852\n",
       "   0.00758342 -0.873956   -0.5871548  -1.6779717   0.16245282 -1.9881772\n",
       "   1.1438082   1.0304108   2.4714987  -0.3673678  -1.3453866   0.83291745\n",
       "  -0.5454309  -0.29746136  0.29281864 -0.36332393 -0.89469075  0.9179227\n",
       "   0.3406243  -0.08589192  0.26846337  1.2249725  -0.45858714 -2.1671746\n",
       "   2.1541193  -0.72104347 -0.5825307   0.12204503  0.93522286  0.9956356\n",
       "  -0.1684459  -0.6127305   0.9794384   2.5697823 ]\n",
       " [ 0.3303594  -0.29754126 -2.0244412   0.39806744  0.42322364 -0.93397\n",
       "   0.20913891  1.9346311  -1.4459745   2.4413626  -1.4805185  -0.12315336\n",
       "  -0.02722753  1.010897   -0.32497174 -2.8002448   0.46689606  2.1101384\n",
       "   1.1544021  -0.69704944 -1.1659342   0.19565888 -1.5627489   0.40096617\n",
       "  -0.9684279   0.7973869  -0.5359661  -0.77386653 -0.15088615 -0.5651773\n",
       "  -0.09290766 -0.22603326  0.21838792  1.1252636   1.9937322  -3.4309726\n",
       "   1.5031512   0.5226418  -0.39717844  1.2394787   3.838815   -1.6969804\n",
       "   0.01252076 -0.60726887  3.5396981   0.09687168  0.10249048  1.2398868\n",
       "   0.11681177 -0.887024   -0.44941685 -0.4241136  -0.75558484 -0.52278024\n",
       "   0.5272186   0.2024354   0.18996225 -3.5027719  -0.85176706 -1.3038044\n",
       "  -0.10782593 -1.8570989  -2.4630446   0.45444554 -0.97321975  2.5927584\n",
       "  -1.5826868  -0.6765985   0.20286825 -2.2578568   1.7022815  -0.68492717\n",
       "   0.41281125  1.2523808   0.529232    0.05049818  0.35957313  1.94966\n",
       "  -1.4737191  -1.1007564  -0.6994309   1.0503117   4.0727596   0.33562684\n",
       "   1.516533    0.1154163  -3.1620731   1.34358    -3.543433   -0.7552081\n",
       "   2.3325999  -0.1468766   1.7652428  -0.7182588   2.078384    0.9328156\n",
       "   2.2944357   1.034559    2.0043018  -2.6294327 ]])"
      ]
     },
     "metadata": {},
     "output_type": "display_data"
    }
   ],
   "source": [
    "user_ids = [206210, 206211, 103593]\n",
    "user_factors = model.user_factors[user_to_index[user_ids]]\n",
    "\n",
    "display(user_factors[1:])"
   ]
  },
  {
   "attachments": {},
   "cell_type": "markdown",
   "metadata": {
    "id": "d2rlTIuyt5HK"
   },
   "source": [
    "### Model recommendations\n",
    "\n",
    "We will now retrieve recommendations from our model directly, just to have these results as a baseline."
   ]
  },
  {
   "cell_type": "code",
   "execution_count": 23,
   "metadata": {
    "id": "IM9lyHTVt5HL",
    "outputId": "fdb5f8e4-57a0-41c8-9ffb-34c629fec7e5"
   },
   "outputs": [
    {
     "name": "stdout",
     "output_type": "stream",
     "text": [
      "Model recommendations\n",
      "\n",
      "Time needed for retrieving recommended products: 0.01539812500000437 seconds.\n",
      "\n",
      "\n",
      "Recommendations for person 0:\n",
      "['Sparkling Water']\n",
      "['Mineral Water']\n",
      "['Soda']\n",
      "['Smartwater']\n",
      "['Spring Water']\n",
      "['Sparkling Natural Mineral Water']\n",
      "['Distilled Water']\n",
      "['Zero Calorie Cola']\n",
      "['Sparkling Mineral Water']\n",
      "['Drinking Water']\n",
      "\n",
      "Recommendations for person 1:\n",
      "['Large Alfresco Eggs']\n",
      "['Organic Medium Salsa']\n",
      "['Organic Spring Mix Salad']\n",
      "['Pure Irish Butter']\n",
      "['Organic Spring Mix']\n",
      "['Baby Wipes Sensitive']\n",
      "['Chocolate Ice Cream']\n",
      "['Organic Shredded Carrots']\n",
      "['No More Tears Baby Shampoo']\n",
      "['Unsweetened Almond Milk']\n",
      "\n",
      "Recommendations for person 2:\n",
      "['Organic Blackberries']\n",
      "['Organic Blueberries']\n",
      "['Organic Strawberries']\n",
      "['Bing Cherries']\n",
      "['Red Plums']\n",
      "['Organic Bosc Pear']\n",
      "['Grape White/Green Seedless']\n",
      "['Blood Oranges']\n",
      "['Organic Bartlett Pear']\n",
      "['Large Yellow Flesh Nectarine']\n"
     ]
    }
   ],
   "source": [
    "print(\"Model recommendations\\n\")\n",
    "\n",
    "start_time = time.process_time()\n",
    "recommendations0 = model.recommend(userid=user_ids[0], user_items=sparse_user_product[0])\n",
    "recommendations1 = model.recommend(userid=user_ids[1], user_items=sparse_user_product[1])\n",
    "recommendations2 = model.recommend(userid=user_ids[2], user_items=sparse_user_product[2])\n",
    "print(\"Time needed for retrieving recommended products: \" + str(time.process_time() - start_time) + ' seconds.\\n')\n",
    "\n",
    "print('\\nRecommendations for person 0:')\n",
    "for recommendation in recommendations0[0]:\n",
    "    print(products_lookup[products_lookup.product_id == recommendation]['product_name'].values)\n",
    "\n",
    "print('\\nRecommendations for person 1:')\n",
    "for recommendation in recommendations1[0]:\n",
    "    print(products_lookup[products_lookup.product_id == recommendation]['product_name'].values)\n",
    "\n",
    "print('\\nRecommendations for person 2:')\n",
    "for recommendation in recommendations2[0]:\n",
    "    print(products_lookup[products_lookup.product_id == recommendation]['product_name'].values)"
   ]
  },
  {
   "attachments": {},
   "cell_type": "markdown",
   "metadata": {
    "id": "wTh61ou3t5HL"
   },
   "source": [
    "### Query the index\n",
    "\n",
    "Let's now query the index to check how quickly we retrieve results. Please note that query speed depends in part on your internet connection."
   ]
  },
  {
   "cell_type": "code",
   "execution_count": 37,
   "metadata": {
    "id": "UiZg4Iset5HL",
    "outputId": "06898130-2d66-4860-d7ea-e7ac6c9c92f6"
   },
   "outputs": [
    {
     "name": "stdout",
     "output_type": "stream",
     "text": [
      "100\n",
      "Time needed for retrieving recommended products using Pinecone: 0.07179190000000801 seconds.\n",
      "\n",
      "user_id=206210\n",
      "Recommendation: \n"
     ]
    },
    {
     "data": {
      "text/html": [
       "<div>\n",
       "<style scoped>\n",
       "    .dataframe tbody tr th:only-of-type {\n",
       "        vertical-align: middle;\n",
       "    }\n",
       "\n",
       "    .dataframe tbody tr th {\n",
       "        vertical-align: top;\n",
       "    }\n",
       "\n",
       "    .dataframe thead th {\n",
       "        text-align: right;\n",
       "    }\n",
       "</style>\n",
       "<table border=\"1\" class=\"dataframe\">\n",
       "  <thead>\n",
       "    <tr style=\"text-align: right;\">\n",
       "      <th></th>\n",
       "      <th>products</th>\n",
       "      <th>scores</th>\n",
       "    </tr>\n",
       "  </thead>\n",
       "  <tbody>\n",
       "    <tr>\n",
       "      <th>0</th>\n",
       "      <td>Mineral Water</td>\n",
       "      <td>0.955505</td>\n",
       "    </tr>\n",
       "    <tr>\n",
       "      <th>1</th>\n",
       "      <td>Zero Calorie Cola</td>\n",
       "      <td>0.713828</td>\n",
       "    </tr>\n",
       "    <tr>\n",
       "      <th>2</th>\n",
       "      <td>Orange &amp; Lemon Flavor Variety Pack Sparkling F...</td>\n",
       "      <td>0.667592</td>\n",
       "    </tr>\n",
       "    <tr>\n",
       "      <th>3</th>\n",
       "      <td>Sparkling Water</td>\n",
       "      <td>0.658520</td>\n",
       "    </tr>\n",
       "    <tr>\n",
       "      <th>4</th>\n",
       "      <td>Pain Relief Tablets</td>\n",
       "      <td>0.648211</td>\n",
       "    </tr>\n",
       "    <tr>\n",
       "      <th>5</th>\n",
       "      <td>Coppertop AAA Alkaline Batteries</td>\n",
       "      <td>0.633466</td>\n",
       "    </tr>\n",
       "    <tr>\n",
       "      <th>6</th>\n",
       "      <td>Milk Chocolate Almonds</td>\n",
       "      <td>0.628515</td>\n",
       "    </tr>\n",
       "    <tr>\n",
       "      <th>7</th>\n",
       "      <td>Organic Coconut Water</td>\n",
       "      <td>0.623023</td>\n",
       "    </tr>\n",
       "    <tr>\n",
       "      <th>8</th>\n",
       "      <td>Organic Variety Pack</td>\n",
       "      <td>0.620426</td>\n",
       "    </tr>\n",
       "    <tr>\n",
       "      <th>9</th>\n",
       "      <td>Extra Fancy Unsalted Mixed Nuts</td>\n",
       "      <td>0.619318</td>\n",
       "    </tr>\n",
       "  </tbody>\n",
       "</table>\n",
       "</div>"
      ],
      "text/plain": [
       "                                            products    scores\n",
       "0                                      Mineral Water  0.955505\n",
       "1                                  Zero Calorie Cola  0.713828\n",
       "2  Orange & Lemon Flavor Variety Pack Sparkling F...  0.667592\n",
       "3                                    Sparkling Water  0.658520\n",
       "4                                Pain Relief Tablets  0.648211\n",
       "5                   Coppertop AAA Alkaline Batteries  0.633466\n",
       "6                             Milk Chocolate Almonds  0.628515\n",
       "7                              Organic Coconut Water  0.623023\n",
       "8                               Organic Variety Pack  0.620426\n",
       "9                    Extra Fancy Unsalted Mixed Nuts  0.619318"
      ]
     },
     "metadata": {},
     "output_type": "display_data"
    },
    {
     "name": "stdout",
     "output_type": "stream",
     "text": [
      "Top buys from the past: \n"
     ]
    },
    {
     "data": {
      "text/html": [
       "<div>\n",
       "<style scoped>\n",
       "    .dataframe tbody tr th:only-of-type {\n",
       "        vertical-align: middle;\n",
       "    }\n",
       "\n",
       "    .dataframe tbody tr th {\n",
       "        vertical-align: top;\n",
       "    }\n",
       "\n",
       "    .dataframe thead th {\n",
       "        text-align: right;\n",
       "    }\n",
       "</style>\n",
       "<table border=\"1\" class=\"dataframe\">\n",
       "  <thead>\n",
       "    <tr style=\"text-align: right;\">\n",
       "      <th></th>\n",
       "      <th>product_id</th>\n",
       "      <th>product_name</th>\n",
       "      <th>total_orders</th>\n",
       "    </tr>\n",
       "  </thead>\n",
       "  <tbody>\n",
       "    <tr>\n",
       "      <th>0</th>\n",
       "      <td>22802</td>\n",
       "      <td>Mineral Water</td>\n",
       "      <td>97</td>\n",
       "    </tr>\n",
       "  </tbody>\n",
       "</table>\n",
       "</div>"
      ],
      "text/plain": [
       "   product_id   product_name  total_orders\n",
       "0       22802  Mineral Water            97"
      ]
     },
     "metadata": {},
     "output_type": "display_data"
    },
    {
     "name": "stdout",
     "output_type": "stream",
     "text": [
      "user_id=206211\n",
      "Recommendation: \n"
     ]
    },
    {
     "data": {
      "text/html": [
       "<div>\n",
       "<style scoped>\n",
       "    .dataframe tbody tr th:only-of-type {\n",
       "        vertical-align: middle;\n",
       "    }\n",
       "\n",
       "    .dataframe tbody tr th {\n",
       "        vertical-align: top;\n",
       "    }\n",
       "\n",
       "    .dataframe thead th {\n",
       "        text-align: right;\n",
       "    }\n",
       "</style>\n",
       "<table border=\"1\" class=\"dataframe\">\n",
       "  <thead>\n",
       "    <tr style=\"text-align: right;\">\n",
       "      <th></th>\n",
       "      <th>products</th>\n",
       "      <th>scores</th>\n",
       "    </tr>\n",
       "  </thead>\n",
       "  <tbody>\n",
       "    <tr>\n",
       "      <th>0</th>\n",
       "      <td>No More Tears Baby Shampoo</td>\n",
       "      <td>0.973792</td>\n",
       "    </tr>\n",
       "    <tr>\n",
       "      <th>1</th>\n",
       "      <td>Size 5 Cruisers Diapers Super Pack</td>\n",
       "      <td>0.655337</td>\n",
       "    </tr>\n",
       "    <tr>\n",
       "      <th>2</th>\n",
       "      <td>Baby Bubble Bath</td>\n",
       "      <td>0.645751</td>\n",
       "    </tr>\n",
       "    <tr>\n",
       "      <th>3</th>\n",
       "      <td>Head-to-Toe Baby Wash</td>\n",
       "      <td>0.628874</td>\n",
       "    </tr>\n",
       "    <tr>\n",
       "      <th>4</th>\n",
       "      <td>Size 6 Baby Dry Diapers</td>\n",
       "      <td>0.599227</td>\n",
       "    </tr>\n",
       "    <tr>\n",
       "      <th>5</th>\n",
       "      <td>Cruisers Diapers Jumbo Pack - Size 5</td>\n",
       "      <td>0.597495</td>\n",
       "    </tr>\n",
       "    <tr>\n",
       "      <th>6</th>\n",
       "      <td>White Buttermints</td>\n",
       "      <td>0.592676</td>\n",
       "    </tr>\n",
       "    <tr>\n",
       "      <th>7</th>\n",
       "      <td>Baby Wipes Sensitive</td>\n",
       "      <td>0.584117</td>\n",
       "    </tr>\n",
       "    <tr>\n",
       "      <th>8</th>\n",
       "      <td>Cruisers Size 5 Giant Pack Diapers</td>\n",
       "      <td>0.582672</td>\n",
       "    </tr>\n",
       "    <tr>\n",
       "      <th>9</th>\n",
       "      <td>Baby Shampoo With Lavender</td>\n",
       "      <td>0.580210</td>\n",
       "    </tr>\n",
       "  </tbody>\n",
       "</table>\n",
       "</div>"
      ],
      "text/plain": [
       "                               products    scores\n",
       "0            No More Tears Baby Shampoo  0.973792\n",
       "1    Size 5 Cruisers Diapers Super Pack  0.655337\n",
       "2                      Baby Bubble Bath  0.645751\n",
       "3                 Head-to-Toe Baby Wash  0.628874\n",
       "4               Size 6 Baby Dry Diapers  0.599227\n",
       "5  Cruisers Diapers Jumbo Pack - Size 5  0.597495\n",
       "6                     White Buttermints  0.592676\n",
       "7                  Baby Wipes Sensitive  0.584117\n",
       "8    Cruisers Size 5 Giant Pack Diapers  0.582672\n",
       "9            Baby Shampoo With Lavender  0.580210"
      ]
     },
     "metadata": {},
     "output_type": "display_data"
    },
    {
     "name": "stdout",
     "output_type": "stream",
     "text": [
      "Top buys from the past: \n"
     ]
    },
    {
     "data": {
      "text/html": [
       "<div>\n",
       "<style scoped>\n",
       "    .dataframe tbody tr th:only-of-type {\n",
       "        vertical-align: middle;\n",
       "    }\n",
       "\n",
       "    .dataframe tbody tr th {\n",
       "        vertical-align: top;\n",
       "    }\n",
       "\n",
       "    .dataframe thead th {\n",
       "        text-align: right;\n",
       "    }\n",
       "</style>\n",
       "<table border=\"1\" class=\"dataframe\">\n",
       "  <thead>\n",
       "    <tr style=\"text-align: right;\">\n",
       "      <th></th>\n",
       "      <th>product_id</th>\n",
       "      <th>product_name</th>\n",
       "      <th>total_orders</th>\n",
       "    </tr>\n",
       "  </thead>\n",
       "  <tbody>\n",
       "    <tr>\n",
       "      <th>0</th>\n",
       "      <td>26834</td>\n",
       "      <td>No More Tears Baby Shampoo</td>\n",
       "      <td>89</td>\n",
       "    </tr>\n",
       "    <tr>\n",
       "      <th>1</th>\n",
       "      <td>12590</td>\n",
       "      <td>Baby Wash &amp; Shampoo</td>\n",
       "      <td>77</td>\n",
       "    </tr>\n",
       "  </tbody>\n",
       "</table>\n",
       "</div>"
      ],
      "text/plain": [
       "   product_id                product_name  total_orders\n",
       "0       26834  No More Tears Baby Shampoo            89\n",
       "1       12590         Baby Wash & Shampoo            77"
      ]
     },
     "metadata": {},
     "output_type": "display_data"
    }
   ],
   "source": [
    "# Query by user factors\n",
    "user_embeddings = user_factors.to_numpy()[:-1].tolist() if device == \"cuda\" else user_factors[:-1].tolist()\n",
    "print(len(user_embeddings[0]))\n",
    "start_time = time.process_time()\n",
    "query_results = [index.query(vector=embedding, top_k=10, include_metadata=True) for embedding in user_embeddings]\n",
    "\n",
    "print(\"Time needed for retrieving recommended products using Pinecone: \" + str(time.process_time() - start_time) + ' seconds.\\n')\n",
    "\n",
    "for _id, res in zip(user_ids, query_results):\n",
    "    print(f'user_id={_id}')\n",
    "    df = pd.DataFrame(\n",
    "        {\n",
    "            'products': [match.metadata['title'] for match in res.matches],\n",
    "            'scores': [match.score for match in res.matches]\n",
    "        }\n",
    "    )\n",
    "    print(\"Recommendation: \")\n",
    "    display(df)\n",
    "    print(\"Top buys from the past: \")\n",
    "    display(products_bought_by_user_in_the_past(_id, top=15))"
   ]
  },
  {
   "attachments": {},
   "cell_type": "markdown",
   "metadata": {
    "id": "Dkxi6IYbt5HL"
   },
   "source": [
    "*Note* The inference using Pinecone is much faster compared to retrieving recommendations from a model directly. Please note that this result depends on your internet connection as well. "
   ]
  },
  {
   "attachments": {},
   "cell_type": "markdown",
   "metadata": {
    "id": "Jl64xOvKt5HL"
   },
   "source": [
    "All that’s left to do is surface these recommendations on the shopping site, or feed them into other applications."
   ]
  },
  {
   "attachments": {},
   "cell_type": "markdown",
   "metadata": {
    "id": "HUvu0FG9t5HM"
   },
   "source": [
    "## Clean up"
   ]
  },
  {
   "attachments": {},
   "cell_type": "markdown",
   "metadata": {
    "id": "QTpsePdJt5HM"
   },
   "source": [
    "Delete the index once you are sure that you do not want to use it anymore. Once it is deleted, you cannot reuse it."
   ]
  },
  {
   "cell_type": "code",
   "execution_count": null,
   "metadata": {
    "id": "7gCA-7kbt5HM"
   },
   "outputs": [],
   "source": [
    "pinecone.delete_index(index_name)"
   ]
  },
  {
   "attachments": {},
   "cell_type": "markdown",
   "metadata": {
    "id": "Ece-xKrYt5HM"
   },
   "source": [
    "## Summary"
   ]
  },
  {
   "attachments": {},
   "cell_type": "markdown",
   "metadata": {
    "id": "FXywcRrYt5HM"
   },
   "source": [
    "In this example we used [Pinecone](https://www.pinecone.io/) to build and deploy a product recommendation engine that uses collaborative filtering, relatively quickly.\n",
    "\n",
    "Once deployed, the product recommendation engine can index new data, retrieve recommendations in milliseconds, and send results to production applications."
   ]
  }
 ],
 "metadata": {
  "colab": {
   "name": "product_recommender.ipynb",
   "provenance": []
  },
  "kernelspec": {
   "display_name": "base",
   "language": "python",
   "name": "python3"
  },
  "language_info": {
   "codemirror_mode": {
    "name": "ipython",
    "version": 3
   },
   "file_extension": ".py",
   "mimetype": "text/x-python",
   "name": "python",
   "nbconvert_exporter": "python",
   "pygments_lexer": "ipython3",
   "version": "3.9.18"
  },
  "vscode": {
   "interpreter": {
    "hash": "5fe10bf018ef3e697f9035d60bf60847932a12bface18908407fd371fe880db9"
   }
  }
 },
 "nbformat": 4,
 "nbformat_minor": 1
}
